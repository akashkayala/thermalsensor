{
 "cells": [
  {
   "cell_type": "code",
   "execution_count": 149,
   "metadata": {},
   "outputs": [],
   "source": [
    "def gstreamer_pipeline(\n",
    "    capture_width=3264,\n",
    "    capture_height=2464,\n",
    "    display_width=1024,\n",
    "    display_height=768,\n",
    "    framerate=10,\n",
    "    flip_method=2,\n",
    "):\n",
    "\n",
    "    return (\n",
    "        \"nvarguscamerasrc ! \"\n",
    "        \"video/x-raw(memory:NVMM), \"\n",
    "        \"width=(int)%d, height=(int)%d, \"\n",
    "        \"format=(string)NV12, framerate=(fraction)%d/1 ! \"\n",
    "        \"nvvidconv flip-method=%d ! \"\n",
    "        \"video/x-raw, width=(int)%d, height=(int)%d, format=(string)BGRx ! \"\n",
    "        \"videoconvert ! \"\n",
    "        \"video/x-raw, format=(string)BGR ! \"\n",
    "        \"appsink max-buffers=1 drop=true\"\n",
    "        % (\n",
    "            capture_width,\n",
    "            capture_height,\n",
    "            framerate,\n",
    "            flip_method,\n",
    "            display_width,\n",
    "            display_height,\n",
    "        )\n",
    "    )\n"
   ]
  },
  {
   "cell_type": "code",
   "execution_count": 150,
   "metadata": {},
   "outputs": [],
   "source": [
    "def ir_pipeline(width=800, height=600):\n",
    "    return f\"\"\"\n",
    "    v4l2src device=/dev/video1 !\n",
    "    video/x-raw,format=GRAY16_LE !\n",
    "    videoconvert !\n",
    "    appsink max-buffers=1 drop=true \n",
    "    \"\"\""
   ]
  },
  {
   "cell_type": "code",
   "execution_count": 128,
   "metadata": {},
   "outputs": [],
   "source": [
    "import cv2\n",
    "\n",
    "stream = cv2.VideoCapture(\n",
    "    ir_pipeline(),\n",
    "    cv2.CAP_GSTREAMER,\n",
    ")"
   ]
  },
  {
   "cell_type": "code",
   "execution_count": 151,
   "metadata": {},
   "outputs": [
    {
     "data": {
      "text/plain": [
       "False"
      ]
     },
     "execution_count": 151,
     "metadata": {},
     "output_type": "execute_result"
    }
   ],
   "source": [
    "stream.set(cv2.CAP_PROP_CONVERT_RGB, 0)"
   ]
  },
  {
   "cell_type": "code",
   "execution_count": 152,
   "metadata": {},
   "outputs": [],
   "source": [
    "stream.release()"
   ]
  },
  {
   "cell_type": "code",
   "execution_count": 153,
   "metadata": {},
   "outputs": [
    {
     "data": {
      "text/plain": [
       "(False, None)"
      ]
     },
     "execution_count": 153,
     "metadata": {},
     "output_type": "execute_result"
    }
   ],
   "source": [
    "stream.read()"
   ]
  },
  {
   "cell_type": "code",
   "execution_count": 154,
   "metadata": {},
   "outputs": [],
   "source": [
    "import cv2\n",
    "\n",
    "stream = cv2.VideoCapture(\n",
    "    gstreamer_pipeline(\n",
    "        capture_width=3264,\n",
    "        capture_height=2464,\n",
    "        display_width=1024,\n",
    "        display_height=768,\n",
    "        framerate=21,\n",
    "        flip_method=2,\n",
    "    ),\n",
    "    cv2.CAP_GSTREAMER,\n",
    ")"
   ]
  },
  {
   "cell_type": "code",
   "execution_count": 155,
   "metadata": {},
   "outputs": [
    {
     "data": {
      "text/plain": [
       "(True, array([[[  0,  34,  64],\n",
       "         [ 10,   2,  51],\n",
       "         [ 40,  46,   0],\n",
       "         ...,\n",
       "         [ 71,   1,  82],\n",
       "         [110,  70,  90],\n",
       "         [117,  60,  21]],\n",
       " \n",
       "        [[  5,  81, 124],\n",
       "         [  0,  50,  56],\n",
       "         [  0,  40,   0],\n",
       "         ...,\n",
       "         [ 64,  56,  39],\n",
       "         [ 82,  60,  50],\n",
       "         [ 68,  51,  54]],\n",
       " \n",
       "        [[ 13,  81,  74],\n",
       "         [  0,  86,   0],\n",
       "         [ 16, 104,  10],\n",
       "         ...,\n",
       "         [ 38,  64,  93],\n",
       "         [ 54,  62, 118],\n",
       "         [ 24,  63,  88]],\n",
       " \n",
       "        ...,\n",
       " \n",
       "        [[ 42,   0,  64],\n",
       "         [ 69,  22,  46],\n",
       "         [ 64,   0,  37],\n",
       "         ...,\n",
       "         [255, 255, 255],\n",
       "         [255, 246, 255],\n",
       "         [255, 250, 255]],\n",
       " \n",
       "        [[ 97,  76, 170],\n",
       "         [ 96,  64,  40],\n",
       "         [ 36,  27,   0],\n",
       "         ...,\n",
       "         [255, 255, 255],\n",
       "         [255, 225, 235],\n",
       "         [255, 255, 255]],\n",
       " \n",
       "        [[ 99,   0, 125],\n",
       "         [ 41,   0,  76],\n",
       "         [ 74, 110,  35],\n",
       "         ...,\n",
       "         [251, 255, 250],\n",
       "         [255, 255, 242],\n",
       "         [236, 248, 250]]], dtype=uint8))"
      ]
     },
     "execution_count": 155,
     "metadata": {},
     "output_type": "execute_result"
    }
   ],
   "source": [
    "stream.read()"
   ]
  },
  {
   "cell_type": "code",
   "execution_count": 3,
   "metadata": {},
   "outputs": [
    {
     "name": "stdout",
     "output_type": "stream",
     "text": [
      "CPU times: user 0 ns, sys: 0 ns, total: 0 ns\n",
      "Wall time: 87 µs\n",
      "CPU times: user 0 ns, sys: 0 ns, total: 0 ns\n",
      "Wall time: 39.3 µs\n",
      "CPU times: user 0 ns, sys: 0 ns, total: 0 ns\n",
      "Wall time: 42.7 µs\n",
      "CPU times: user 0 ns, sys: 0 ns, total: 0 ns\n",
      "Wall time: 54.8 µs\n",
      "CPU times: user 0 ns, sys: 0 ns, total: 0 ns\n",
      "Wall time: 45.1 µs\n",
      "CPU times: user 0 ns, sys: 0 ns, total: 0 ns\n",
      "Wall time: 54.1 µs\n",
      "CPU times: user 0 ns, sys: 0 ns, total: 0 ns\n",
      "Wall time: 40.8 µs\n",
      "CPU times: user 0 ns, sys: 0 ns, total: 0 ns\n",
      "Wall time: 42.9 µs\n",
      "CPU times: user 0 ns, sys: 0 ns, total: 0 ns\n",
      "Wall time: 43.6 µs\n",
      "CPU times: user 0 ns, sys: 0 ns, total: 0 ns\n",
      "Wall time: 48.4 µs\n"
     ]
    }
   ],
   "source": [
    "import time\n",
    "for _ in range(10):\n",
    "    %time a = stream.retrieve()\n",
    "    time.sleep(0.1)"
   ]
  },
  {
   "cell_type": "code",
   "execution_count": 96,
   "metadata": {},
   "outputs": [
    {
     "name": "stdout",
     "output_type": "stream",
     "text": [
      "CPU times: user 0 ns, sys: 0 ns, total: 0 ns\n",
      "Wall time: 760 µs\n"
     ]
    },
    {
     "data": {
      "text/plain": [
       "True"
      ]
     },
     "execution_count": 96,
     "metadata": {},
     "output_type": "execute_result"
    }
   ],
   "source": [
    "%time stream.grab()"
   ]
  },
  {
   "cell_type": "code",
   "execution_count": 157,
   "metadata": {},
   "outputs": [],
   "source": [
    "stream.release()"
   ]
  },
  {
   "cell_type": "code",
   "execution_count": 143,
   "metadata": {},
   "outputs": [
    {
     "name": "stdout",
     "output_type": "stream",
     "text": [
      "CPU times: user 4 ms, sys: 0 ns, total: 4 ms\n",
      "Wall time: 2.84 ms\n"
     ]
    },
    {
     "data": {
      "text/plain": [
       "(True, array([[[147, 124, 147],\n",
       "         [156, 135, 193],\n",
       "         [112, 109, 148],\n",
       "         ...,\n",
       "         [130, 123, 154],\n",
       "         [128, 159, 154],\n",
       "         [121, 142, 169]],\n",
       " \n",
       "        [[104, 138, 156],\n",
       "         [129, 135, 149],\n",
       "         [122, 125, 146],\n",
       "         ...,\n",
       "         [163, 159, 195],\n",
       "         [148, 154, 185],\n",
       "         [150, 140, 184]],\n",
       " \n",
       "        [[101, 142, 129],\n",
       "         [ 98,  85, 120],\n",
       "         [155, 102, 158],\n",
       "         ...,\n",
       "         [126, 152, 163],\n",
       "         [117, 138, 145],\n",
       "         [ 88, 146, 150]],\n",
       " \n",
       "        ...,\n",
       " \n",
       "        [[ 49,  86, 103],\n",
       "         [  0,  68, 144],\n",
       "         [  0,  59, 103],\n",
       "         ...,\n",
       "         [255, 247, 254],\n",
       "         [255, 224, 219],\n",
       "         [255, 225, 218]],\n",
       " \n",
       "        [[112,  81, 134],\n",
       "         [ 61, 112, 128],\n",
       "         [ 21, 105, 105],\n",
       "         ...,\n",
       "         [255, 250, 238],\n",
       "         [255, 224, 219],\n",
       "         [255, 223, 219]],\n",
       " \n",
       "        [[114,  59, 130],\n",
       "         [ 49,  40,  51],\n",
       "         [ 95, 115,  96],\n",
       "         ...,\n",
       "         [255, 229, 248],\n",
       "         [255, 232, 235],\n",
       "         [255, 229, 202]]], dtype=uint8))"
      ]
     },
     "execution_count": 143,
     "metadata": {},
     "output_type": "execute_result"
    }
   ],
   "source": [
    "%time stream.read()"
   ]
  },
  {
   "cell_type": "code",
   "execution_count": 97,
   "metadata": {},
   "outputs": [
    {
     "name": "stdout",
     "output_type": "stream",
     "text": [
      "CPU times: user 0 ns, sys: 4 ms, total: 4 ms\n",
      "Wall time: 4.19 ms\n"
     ]
    },
    {
     "data": {
      "text/plain": [
       "(True, array([[[156, 148, 191],\n",
       "         [110, 118, 157],\n",
       "         [110, 115, 155],\n",
       "         ...,\n",
       "         [143, 144, 186],\n",
       "         [107, 134, 186],\n",
       "         [101, 140, 163]],\n",
       " \n",
       "        [[105, 117, 151],\n",
       "         [106, 112, 145],\n",
       "         [117, 125, 158],\n",
       "         ...,\n",
       "         [118, 151, 178],\n",
       "         [102, 176, 196],\n",
       "         [113, 174, 171]],\n",
       " \n",
       "        [[ 97, 124, 148],\n",
       "         [106, 119, 143],\n",
       "         [121, 115, 131],\n",
       "         ...,\n",
       "         [112, 164, 173],\n",
       "         [ 97, 150, 159],\n",
       "         [120, 149, 163]],\n",
       " \n",
       "        ...,\n",
       " \n",
       "        [[ 37,  83, 124],\n",
       "         [ 57,  63,  96],\n",
       "         [ 31,  76, 111],\n",
       "         ...,\n",
       "         [255, 214, 207],\n",
       "         [255, 252, 251],\n",
       "         [255, 218, 220]],\n",
       " \n",
       "        [[ 19,  74, 102],\n",
       "         [ 60, 102,  93],\n",
       "         [  0,  89,  97],\n",
       "         ...,\n",
       "         [255, 212, 225],\n",
       "         [255, 216, 202],\n",
       "         [255, 223, 210]],\n",
       " \n",
       "        [[ 95,   0, 100],\n",
       "         [ 99,  81, 102],\n",
       "         [ 53,  74, 102],\n",
       "         ...,\n",
       "         [255, 233, 216],\n",
       "         [255, 224, 225],\n",
       "         [239, 231, 212]]], dtype=uint8))"
      ]
     },
     "execution_count": 97,
     "metadata": {},
     "output_type": "execute_result"
    }
   ],
   "source": [
    "%time stream.retrieve()"
   ]
  }
 ],
 "metadata": {
  "kernelspec": {
   "display_name": "Python 3",
   "language": "python",
   "name": "python3"
  },
  "language_info": {
   "codemirror_mode": {
    "name": "ipython",
    "version": 3
   },
   "file_extension": ".py",
   "mimetype": "text/x-python",
   "name": "python",
   "nbconvert_exporter": "python",
   "pygments_lexer": "ipython3",
   "version": "3.6.9"
  }
 },
 "nbformat": 4,
 "nbformat_minor": 2
}
